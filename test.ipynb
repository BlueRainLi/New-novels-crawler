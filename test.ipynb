{
 "cells": [
  {
   "cell_type": "code",
   "execution_count": 1,
   "metadata": {},
   "outputs": [],
   "source": [
    "import pandas as pd\n",
    "from functions import *\n",
    "id = 1\n",
    "url_base = 'https://www.wenku8.net/novel/{}/{}/'.format(id//1000, id)+'{}'"
   ]
  },
  {
   "cell_type": "code",
   "execution_count": 2,
   "metadata": {},
   "outputs": [],
   "source": [
    "webdata = GetData(url_base.format('index.htm'))"
   ]
  },
  {
   "cell_type": "code",
   "execution_count": 3,
   "metadata": {},
   "outputs": [],
   "source": [
    "menu = FormMenu(webdata)"
   ]
  },
  {
   "cell_type": "code",
   "execution_count": 4,
   "metadata": {},
   "outputs": [
    {
     "data": {
      "text/plain": [
       "dict_keys(['第一卷 渴望死亡的小丑', '第二卷 渴求真爱的幽灵', '第三卷 沉陷过往的愚者', '第四卷 背负污名的天使', '第五卷 悲怆恸哭的巡礼者', '第六卷 孕育月花的水妖', '第七卷 惠临神明的作家（上）', '第八卷 惠临神明的作家（下）', '番外篇 今天的点心', '文学少女的秘密书架', '外传一 见习生的初恋', '“文学少女”登上石像怪与笨蛋的阶梯', '恋爱插话集第一弹', '恋爱插话集第二弹', '外传二 见习生的伤心', '恋爱插话集第三弹', '外传三 见习生的毕业', '恋爱插话集第四弹', '青涩作家和文学少女编辑', '短篇'])"
      ]
     },
     "execution_count": 4,
     "metadata": {},
     "output_type": "execute_result"
    }
   ],
   "source": [
    "menu.keys()"
   ]
  },
  {
   "cell_type": "code",
   "execution_count": null,
   "metadata": {},
   "outputs": [],
   "source": [
    "for key in menu.keys():\n",
    "    for i in range(len(menu[key])):\n",
    "        "
   ]
  }
 ],
 "metadata": {
  "kernelspec": {
   "display_name": ".venv",
   "language": "python",
   "name": "python3"
  },
  "language_info": {
   "codemirror_mode": {
    "name": "ipython",
    "version": 3
   },
   "file_extension": ".py",
   "mimetype": "text/x-python",
   "name": "python",
   "nbconvert_exporter": "python",
   "pygments_lexer": "ipython3",
   "version": "3.12.4"
  }
 },
 "nbformat": 4,
 "nbformat_minor": 2
}
