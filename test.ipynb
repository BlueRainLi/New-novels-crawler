{
 "cells": [
  {
   "cell_type": "code",
   "execution_count": 1,
   "metadata": {},
   "outputs": [],
   "source": [
    "import pandas as pd\n",
    "from functions import *\n",
    "id = 471\n",
    "url_base = 'https://www.wenku8.net/novel/{}/{}/'.format(id//1000, id)+'{}'"
   ]
  },
  {
   "cell_type": "code",
   "execution_count": 2,
   "metadata": {},
   "outputs": [],
   "source": [
    "webdata = GetData(url_base.format('index.htm'))"
   ]
  },
  {
   "cell_type": "code",
   "execution_count": 42,
   "metadata": {},
   "outputs": [
    {
     "data": {
      "text/plain": [
       "'刀剑神域(SAO／ALO／GGO／UW)'"
      ]
     },
     "execution_count": 42,
     "metadata": {},
     "output_type": "execute_result"
    }
   ],
   "source": [
    "webdata.find(id='title').get_text()"
   ]
  },
  {
   "cell_type": "code",
   "execution_count": 44,
   "metadata": {},
   "outputs": [
    {
     "data": {
      "text/plain": [
       "'川原砾'"
      ]
     },
     "execution_count": 44,
     "metadata": {},
     "output_type": "execute_result"
    }
   ],
   "source": [
    "webdata.find(id='info').get_text()[3:]"
   ]
  },
  {
   "cell_type": "code",
   "execution_count": 32,
   "metadata": {},
   "outputs": [],
   "source": [
    "menu = FormMenu(webdata)"
   ]
  },
  {
   "cell_type": "code",
   "execution_count": 33,
   "metadata": {},
   "outputs": [],
   "source": [
    "check = webdata.find_all(class_='ccss')[0]\n",
    "check_href = check.contents[0].get('href')\n",
    "check_data = GetData(url_base.format(check_href))\n",
    "if '因版权问题，文库不再提供该小说的阅读！' in check_data.find(id='content').contents:\n",
    "    print(1)\n",
    "else:\n",
    "    print(2)"
   ]
  },
  {
   "cell_type": "code",
   "execution_count": 39,
   "metadata": {},
   "outputs": [
    {
     "data": {
      "text/plain": [
       "True"
      ]
     },
     "execution_count": 39,
     "metadata": {},
     "output_type": "execute_result"
    }
   ],
   "source": [
    "'因版权问题，文库不再提供该小说的阅读！' in check_data.find(id='content').contents"
   ]
  },
  {
   "cell_type": "code",
   "execution_count": 8,
   "metadata": {},
   "outputs": [
    {
     "data": {
      "text/plain": [
       "3756"
      ]
     },
     "execution_count": 8,
     "metadata": {},
     "output_type": "execute_result"
    }
   ],
   "source": [
    "import sqlite3\n",
    "con = sqlite3.connect('book_title_list.db')\n",
    "cur = con.cursor()\n",
    "res = cur.execute('SELECT max(id) FROM book')\n",
    "res.fetchone()[0]"
   ]
  },
  {
   "cell_type": "code",
   "execution_count": 9,
   "metadata": {},
   "outputs": [
    {
     "data": {
      "text/plain": [
       "[(1, '文学少女', '野村美月', 1),\n",
       " (2, 'TIGER×DRAGON！(龙与虎)', '竹宫悠由子', 0),\n",
       " (3, '魔法禁书目录', '镰池和马', 0),\n",
       " (4, '笨蛋，测验，召唤兽', '井上坚二', 1),\n",
       " (5, '狼与香辛料(狼与辛香料)', '支仓冻砂', 1),\n",
       " (6, '化物语(物语系列一)', '西尾维新', 1),\n",
       " (7, '碧阳学园学生会议事录(学生会的一己之见)', '葵关南', 1),\n",
       " (8, '全金属狂潮(惊爆危机)', '贺东招二', 0),\n",
       " (9, '说谎的男孩与坏掉的女孩', '入间人间', 1),\n",
       " (10, '对某飞行员的追忆', '犬村小六', 1)]"
      ]
     },
     "execution_count": 9,
     "metadata": {},
     "output_type": "execute_result"
    }
   ],
   "source": [
    "res = cur.execute('SELECT * FROM book')\n",
    "res.fetchall()"
   ]
  },
  {
   "cell_type": "code",
   "execution_count": 3,
   "metadata": {},
   "outputs": [],
   "source": [
    "con.commit()\n",
    "con.close()"
   ]
  }
 ],
 "metadata": {
  "kernelspec": {
   "display_name": ".venv",
   "language": "python",
   "name": "python3"
  },
  "language_info": {
   "codemirror_mode": {
    "name": "ipython",
    "version": 3
   },
   "file_extension": ".py",
   "mimetype": "text/x-python",
   "name": "python",
   "nbconvert_exporter": "python",
   "pygments_lexer": "ipython3",
   "version": "3.12.6"
  }
 },
 "nbformat": 4,
 "nbformat_minor": 2
}
